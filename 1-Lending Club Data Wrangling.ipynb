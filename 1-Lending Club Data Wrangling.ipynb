{
 "cells": [
  {
   "cell_type": "markdown",
   "metadata": {},
   "source": [
    "## Data Wrangling "
   ]
  },
  {
   "cell_type": "markdown",
   "metadata": {},
   "source": [
    "## Introduction"
   ]
  },
  {
   "cell_type": "markdown",
   "metadata": {},
   "source": [
    "This step focus on collecting the data, organizing it and making sure it's well defined."
   ]
  },
  {
   "cell_type": "markdown",
   "metadata": {},
   "source": [
    "### Recap Of Data Science Problem"
   ]
  },
  {
   "cell_type": "markdown",
   "metadata": {},
   "source": [
    "The purpose of this data science project is to come up with a delinquency prediction model for lending club. Decreasing the delinquency would help to increase revenue for lending club and attract more inventor for the platform. The project aims to build a predictive model based on user(borrower) features,which could be categorized into as following: \n",
    "- User feature (general)\n",
    "- User feature (financial specific)\n",
    "- Credit scores\n",
    "- Credit lines\n",
    "- Loan general feature\n",
    "- Loan payment feature\n",
    "\n",
    "- Potential response variables:sub_grade, int_rate, loan_status\n"
   ]
  },
  {
   "cell_type": "markdown",
   "metadata": {},
   "source": [
    "## Import Lending Club Dataset from  2018Q2"
   ]
  },
  {
   "cell_type": "markdown",
   "metadata": {},
   "source": [
    "### Glance first two rows in the dataset and decide how to import the whole dataset in pandas "
   ]
  },
  {
   "cell_type": "code",
   "execution_count": 1,
   "metadata": {},
   "outputs": [],
   "source": [
    "import pandas as pd \n",
    "import numpy as np\n",
    "import matplotlib.pyplot as plt \n",
    "import seaborn as sns \n",
    "from sklearn import preprocessing"
   ]
  },
  {
   "cell_type": "code",
   "execution_count": 2,
   "metadata": {
    "collapsed": true
   },
   "outputs": [
    {
     "name": "stdout",
     "output_type": "stream",
     "text": [
      "Notes offered by Prospectus (https://www.lendingclub.com/info/prospectus.action)\n",
      "\n",
      "\"id\",\"member_id\",\"loan_amnt\",\"funded_amnt\",\"funded_amnt_inv\",\"term\",\"int_rate\",\"installment\",\"grade\",\"sub_grade\",\"emp_title\",\"emp_length\",\"home_ownership\",\"annual_inc\",\"verification_status\",\"issue_d\",\"loan_status\",\"pymnt_plan\",\"url\",\"desc\",\"purpose\",\"title\",\"zip_code\",\"addr_state\",\"dti\",\"delinq_2yrs\",\"earliest_cr_line\",\"fico_range_low\",\"fico_range_high\",\"inq_last_6mths\",\"mths_since_last_delinq\",\"mths_since_last_record\",\"open_acc\",\"pub_rec\",\"revol_bal\",\"revol_util\",\"total_acc\",\"initial_list_status\",\"out_prncp\",\"out_prncp_inv\",\"total_pymnt\",\"total_pymnt_inv\",\"total_rec_prncp\",\"total_rec_int\",\"total_rec_late_fee\",\"recoveries\",\"collection_recovery_fee\",\"last_pymnt_d\",\"last_pymnt_amnt\",\"next_pymnt_d\",\"last_credit_pull_d\",\"last_fico_range_high\",\"last_fico_range_low\",\"collections_12_mths_ex_med\",\"mths_since_last_major_derog\",\"policy_code\",\"application_type\",\"annual_inc_joint\",\"dti_joint\",\"verification_status_joint\",\"acc_now_delinq\",\"tot_coll_amt\",\"tot_cur_bal\",\"open_acc_6m\",\"open_act_il\",\"open_il_12m\",\"open_il_24m\",\"mths_since_rcnt_il\",\"total_bal_il\",\"il_util\",\"open_rv_12m\",\"open_rv_24m\",\"max_bal_bc\",\"all_util\",\"total_rev_hi_lim\",\"inq_fi\",\"total_cu_tl\",\"inq_last_12m\",\"acc_open_past_24mths\",\"avg_cur_bal\",\"bc_open_to_buy\",\"bc_util\",\"chargeoff_within_12_mths\",\"delinq_amnt\",\"mo_sin_old_il_acct\",\"mo_sin_old_rev_tl_op\",\"mo_sin_rcnt_rev_tl_op\",\"mo_sin_rcnt_tl\",\"mort_acc\",\"mths_since_recent_bc\",\"mths_since_recent_bc_dlq\",\"mths_since_recent_inq\",\"mths_since_recent_revol_delinq\",\"num_accts_ever_120_pd\",\"num_actv_bc_tl\",\"num_actv_rev_tl\",\"num_bc_sats\",\"num_bc_tl\",\"num_il_tl\",\"num_op_rev_tl\",\"num_rev_accts\",\"num_rev_tl_bal_gt_0\",\"num_sats\",\"num_tl_120dpd_2m\",\"num_tl_30dpd\",\"num_tl_90g_dpd_24m\",\"num_tl_op_past_12m\",\"pct_tl_nvr_dlq\",\"percent_bc_gt_75\",\"pub_rec_bankruptcies\",\"tax_liens\",\"tot_hi_cred_lim\",\"total_bal_ex_mort\",\"total_bc_limit\",\"total_il_high_credit_limit\",\"revol_bal_joint\",\"sec_app_fico_range_low\",\"sec_app_fico_range_high\",\"sec_app_earliest_cr_line\",\"sec_app_inq_last_6mths\",\"sec_app_mort_acc\",\"sec_app_open_acc\",\"sec_app_revol_util\",\"sec_app_open_act_il\",\"sec_app_num_rev_accts\",\"sec_app_chargeoff_within_12_mths\",\"sec_app_collections_12_mths_ex_med\",\"sec_app_mths_since_last_major_derog\",\"hardship_flag\",\"hardship_type\",\"hardship_reason\",\"hardship_status\",\"deferral_term\",\"hardship_amount\",\"hardship_start_date\",\"hardship_end_date\",\"payment_plan_start_date\",\"hardship_length\",\"hardship_dpd\",\"hardship_loan_status\",\"orig_projected_additional_accrued_interest\",\"hardship_payoff_balance_amount\",\"hardship_last_payment_amount\",\"debt_settlement_flag\",\"debt_settlement_flag_date\",\"settlement_status\",\"settlement_date\",\"settlement_amount\",\"settlement_percentage\",\"settlement_term\"\n",
      "\n",
      "\"129897398\",\"\",\"35000\",\"35000\",\"35000\",\" 60 months\",\" 13.58%\",\"806.79\",\"C\",\"C2\",\"Security Officer\",\"7 years\",\"MORTGAGE\",\"160000\",\"Source Verified\",\"Mar-2018\",\"Charged Off\",\"n\",\"https://lendingclub.com/browse/loanDetail.action?loan_id=129897398\",\"\",\"home_improvement\",\"Home improvement\",\"207xx\",\"MD\",\"7.87\",\"0\",\"Dec-2005\",\"705\",\"709\",\"1\",\"\",\"97\",\"14\",\"1\",\"10333\",\"24.5%\",\"24\",\"w\",\"0.00\",\"0.00\",\"17650.28\",\"17650.28\",\"7651.34\",\"6011.28\",\"0.0\",\"3987.66\",\"717.7788\",\"Sep-2019\",\"806.79\",\"\",\"Mar-2020\",\"609\",\"605\",\"0\",\"\",\"1\",\"Individual\",\"\",\"\",\"\",\"0\",\"0\",\"38964\",\"3\",\"1\",\"1\",\"1\",\"3\",\"28631\",\"99\",\"4\",\"6\",\"2674\",\"55\",\"42200\",\"3\",\"3\",\"4\",\"7\",\"2783\",\"12723\",\"38.2\",\"0\",\"0\",\"128\",\"147\",\"2\",\"2\",\"0\",\"12\",\"\",\"0\",\"\",\"0\",\"5\",\"10\",\"5\",\"10\",\"6\",\"13\",\"18\",\"10\",\"14\",\"0\",\"0\",\"0\",\"5\",\"100\",\"0\",\"1\",\"0\",\"71160\",\"38964\",\"20600\",\"28960\",\"\",\"\",\"\",\"\",\"\",\"\",\"\",\"\",\"\",\"\",\"\",\"\",\"\",\"N\",\"\",\"\",\"\",\"\",\"\",\"\",\"\",\"\",\"\",\"\",\"\",\"\",\"\",\"\",\"N\",\"\",\"\",\"\",\"\",\"\",\"\"\n",
      "\n"
     ]
    }
   ],
   "source": [
    "with open(r'D:\\Springboard\\Github\\Lending Club Capstone Project\\LoanStats_securev1_2018Q1.csv') as df:\n",
    "    for i in range(3):\n",
    "        print(df.readline())"
   ]
  },
  {
   "cell_type": "markdown",
   "metadata": {},
   "source": [
    "The first line is comment in the dataset, so it could be neglected, then the dataset can be loaded into jupyter notebook from the second line. "
   ]
  },
  {
   "cell_type": "code",
   "execution_count": 3,
   "metadata": {},
   "outputs": [
    {
     "name": "stderr",
     "output_type": "stream",
     "text": [
      "C:\\Users\\rhoda\\Anaconda3\\lib\\site-packages\\IPython\\core\\interactiveshell.py:3063: DtypeWarning: Columns (0) have mixed types.Specify dtype option on import or set low_memory=False.\n",
      "  interactivity=interactivity, compiler=compiler, result=result)\n"
     ]
    }
   ],
   "source": [
    "df = pd.read_csv('https://raw.githubusercontent.com/rhodapang/Lending-Club-Capstone-Project/main/LoanStats_securev1_2018Q1.csv',\n",
    "                 skiprows=1,sep=',')"
   ]
  },
  {
   "cell_type": "code",
   "execution_count": 4,
   "metadata": {},
   "outputs": [
    {
     "name": "stdout",
     "output_type": "stream",
     "text": [
      "<class 'pandas.core.frame.DataFrame'>\n",
      "RangeIndex: 107866 entries, 0 to 107865\n",
      "Columns: 150 entries, id to settlement_term\n",
      "dtypes: float64(112), object(38)\n",
      "memory usage: 123.4+ MB\n"
     ]
    }
   ],
   "source": [
    "df.info()"
   ]
  },
  {
   "cell_type": "code",
   "execution_count": 4,
   "metadata": {},
   "outputs": [
    {
     "data": {
      "text/plain": [
       "(107866, 150)"
      ]
     },
     "execution_count": 4,
     "metadata": {},
     "output_type": "execute_result"
    }
   ],
   "source": [
    "df.shape"
   ]
  },
  {
   "cell_type": "code",
   "execution_count": 5,
   "metadata": {
    "collapsed": true
   },
   "outputs": [
    {
     "data": {
      "text/html": [
       "<div>\n",
       "<style scoped>\n",
       "    .dataframe tbody tr th:only-of-type {\n",
       "        vertical-align: middle;\n",
       "    }\n",
       "\n",
       "    .dataframe tbody tr th {\n",
       "        vertical-align: top;\n",
       "    }\n",
       "\n",
       "    .dataframe thead th {\n",
       "        text-align: right;\n",
       "    }\n",
       "</style>\n",
       "<table border=\"1\" class=\"dataframe\">\n",
       "  <thead>\n",
       "    <tr style=\"text-align: right;\">\n",
       "      <th></th>\n",
       "      <th>id</th>\n",
       "      <th>member_id</th>\n",
       "      <th>loan_amnt</th>\n",
       "      <th>funded_amnt</th>\n",
       "      <th>funded_amnt_inv</th>\n",
       "      <th>term</th>\n",
       "      <th>int_rate</th>\n",
       "      <th>installment</th>\n",
       "      <th>grade</th>\n",
       "      <th>sub_grade</th>\n",
       "      <th>...</th>\n",
       "      <th>orig_projected_additional_accrued_interest</th>\n",
       "      <th>hardship_payoff_balance_amount</th>\n",
       "      <th>hardship_last_payment_amount</th>\n",
       "      <th>debt_settlement_flag</th>\n",
       "      <th>debt_settlement_flag_date</th>\n",
       "      <th>settlement_status</th>\n",
       "      <th>settlement_date</th>\n",
       "      <th>settlement_amount</th>\n",
       "      <th>settlement_percentage</th>\n",
       "      <th>settlement_term</th>\n",
       "    </tr>\n",
       "  </thead>\n",
       "  <tbody>\n",
       "    <tr>\n",
       "      <th>0</th>\n",
       "      <td>129897398</td>\n",
       "      <td>NaN</td>\n",
       "      <td>35000.0</td>\n",
       "      <td>35000.0</td>\n",
       "      <td>35000.0</td>\n",
       "      <td>60 months</td>\n",
       "      <td>13.58%</td>\n",
       "      <td>806.79</td>\n",
       "      <td>C</td>\n",
       "      <td>C2</td>\n",
       "      <td>...</td>\n",
       "      <td>NaN</td>\n",
       "      <td>NaN</td>\n",
       "      <td>NaN</td>\n",
       "      <td>N</td>\n",
       "      <td>NaN</td>\n",
       "      <td>NaN</td>\n",
       "      <td>NaN</td>\n",
       "      <td>NaN</td>\n",
       "      <td>NaN</td>\n",
       "      <td>NaN</td>\n",
       "    </tr>\n",
       "    <tr>\n",
       "      <th>1</th>\n",
       "      <td>130827714</td>\n",
       "      <td>NaN</td>\n",
       "      <td>20000.0</td>\n",
       "      <td>20000.0</td>\n",
       "      <td>20000.0</td>\n",
       "      <td>36 months</td>\n",
       "      <td>5.31%</td>\n",
       "      <td>602.21</td>\n",
       "      <td>A</td>\n",
       "      <td>A1</td>\n",
       "      <td>...</td>\n",
       "      <td>NaN</td>\n",
       "      <td>NaN</td>\n",
       "      <td>NaN</td>\n",
       "      <td>N</td>\n",
       "      <td>NaN</td>\n",
       "      <td>NaN</td>\n",
       "      <td>NaN</td>\n",
       "      <td>NaN</td>\n",
       "      <td>NaN</td>\n",
       "      <td>NaN</td>\n",
       "    </tr>\n",
       "    <tr>\n",
       "      <th>2</th>\n",
       "      <td>130910225</td>\n",
       "      <td>NaN</td>\n",
       "      <td>7000.0</td>\n",
       "      <td>7000.0</td>\n",
       "      <td>7000.0</td>\n",
       "      <td>36 months</td>\n",
       "      <td>11.98%</td>\n",
       "      <td>232.44</td>\n",
       "      <td>B</td>\n",
       "      <td>B5</td>\n",
       "      <td>...</td>\n",
       "      <td>NaN</td>\n",
       "      <td>NaN</td>\n",
       "      <td>NaN</td>\n",
       "      <td>N</td>\n",
       "      <td>NaN</td>\n",
       "      <td>NaN</td>\n",
       "      <td>NaN</td>\n",
       "      <td>NaN</td>\n",
       "      <td>NaN</td>\n",
       "      <td>NaN</td>\n",
       "    </tr>\n",
       "    <tr>\n",
       "      <th>3</th>\n",
       "      <td>130950844</td>\n",
       "      <td>NaN</td>\n",
       "      <td>20000.0</td>\n",
       "      <td>20000.0</td>\n",
       "      <td>20000.0</td>\n",
       "      <td>60 months</td>\n",
       "      <td>9.92%</td>\n",
       "      <td>424.16</td>\n",
       "      <td>B</td>\n",
       "      <td>B2</td>\n",
       "      <td>...</td>\n",
       "      <td>NaN</td>\n",
       "      <td>NaN</td>\n",
       "      <td>NaN</td>\n",
       "      <td>N</td>\n",
       "      <td>NaN</td>\n",
       "      <td>NaN</td>\n",
       "      <td>NaN</td>\n",
       "      <td>NaN</td>\n",
       "      <td>NaN</td>\n",
       "      <td>NaN</td>\n",
       "    </tr>\n",
       "    <tr>\n",
       "      <th>4</th>\n",
       "      <td>130960835</td>\n",
       "      <td>NaN</td>\n",
       "      <td>7000.0</td>\n",
       "      <td>7000.0</td>\n",
       "      <td>7000.0</td>\n",
       "      <td>36 months</td>\n",
       "      <td>20.39%</td>\n",
       "      <td>261.54</td>\n",
       "      <td>D</td>\n",
       "      <td>D4</td>\n",
       "      <td>...</td>\n",
       "      <td>NaN</td>\n",
       "      <td>NaN</td>\n",
       "      <td>NaN</td>\n",
       "      <td>N</td>\n",
       "      <td>NaN</td>\n",
       "      <td>NaN</td>\n",
       "      <td>NaN</td>\n",
       "      <td>NaN</td>\n",
       "      <td>NaN</td>\n",
       "      <td>NaN</td>\n",
       "    </tr>\n",
       "  </tbody>\n",
       "</table>\n",
       "<p>5 rows × 150 columns</p>\n",
       "</div>"
      ],
      "text/plain": [
       "          id  member_id  loan_amnt  funded_amnt  funded_amnt_inv        term  \\\n",
       "0  129897398        NaN    35000.0      35000.0          35000.0   60 months   \n",
       "1  130827714        NaN    20000.0      20000.0          20000.0   36 months   \n",
       "2  130910225        NaN     7000.0       7000.0           7000.0   36 months   \n",
       "3  130950844        NaN    20000.0      20000.0          20000.0   60 months   \n",
       "4  130960835        NaN     7000.0       7000.0           7000.0   36 months   \n",
       "\n",
       "  int_rate  installment grade sub_grade  ...  \\\n",
       "0   13.58%       806.79     C        C2  ...   \n",
       "1    5.31%       602.21     A        A1  ...   \n",
       "2   11.98%       232.44     B        B5  ...   \n",
       "3    9.92%       424.16     B        B2  ...   \n",
       "4   20.39%       261.54     D        D4  ...   \n",
       "\n",
       "  orig_projected_additional_accrued_interest hardship_payoff_balance_amount  \\\n",
       "0                                        NaN                            NaN   \n",
       "1                                        NaN                            NaN   \n",
       "2                                        NaN                            NaN   \n",
       "3                                        NaN                            NaN   \n",
       "4                                        NaN                            NaN   \n",
       "\n",
       "  hardship_last_payment_amount  debt_settlement_flag  \\\n",
       "0                          NaN                     N   \n",
       "1                          NaN                     N   \n",
       "2                          NaN                     N   \n",
       "3                          NaN                     N   \n",
       "4                          NaN                     N   \n",
       "\n",
       "  debt_settlement_flag_date settlement_status settlement_date  \\\n",
       "0                       NaN               NaN             NaN   \n",
       "1                       NaN               NaN             NaN   \n",
       "2                       NaN               NaN             NaN   \n",
       "3                       NaN               NaN             NaN   \n",
       "4                       NaN               NaN             NaN   \n",
       "\n",
       "  settlement_amount settlement_percentage  settlement_term  \n",
       "0               NaN                   NaN              NaN  \n",
       "1               NaN                   NaN              NaN  \n",
       "2               NaN                   NaN              NaN  \n",
       "3               NaN                   NaN              NaN  \n",
       "4               NaN                   NaN              NaN  \n",
       "\n",
       "[5 rows x 150 columns]"
      ]
     },
     "execution_count": 5,
     "metadata": {},
     "output_type": "execute_result"
    }
   ],
   "source": [
    "df.head() "
   ]
  },
  {
   "cell_type": "code",
   "execution_count": 6,
   "metadata": {},
   "outputs": [
    {
     "data": {
      "text/plain": [
       "array([dtype('O'), dtype('float64')], dtype=object)"
      ]
     },
     "execution_count": 6,
     "metadata": {},
     "output_type": "execute_result"
    }
   ],
   "source": [
    "df.dtypes.unique()"
   ]
  },
  {
   "cell_type": "markdown",
   "metadata": {},
   "source": [
    "## Prelimenarily explore data"
   ]
  },
  {
   "cell_type": "markdown",
   "metadata": {},
   "source": [
    "### Data cleaning- Dropping irrelevant columns "
   ]
  },
  {
   "cell_type": "markdown",
   "metadata": {},
   "source": [
    "The purpose of this data science project is to build a predictive model to identify loans with delinquency status, therefore, some of columns that are related to outcome variables could be dropped in the beginning. From the document-LCDataDictionary provided by lending club, there are total categories variables in the dataset:\n",
    "- User feature (general)\n",
    "- User feature (financial specific): income, credit scores, credit lines\n",
    "- Loan general feature\n",
    "- Loan payment feature\n",
    "- Current loan payment feature\n",
    "- Secondary application info\n",
    "- Hardship\n",
    "- Settlement\n",
    "\n",
    "- Potential response variables:sub_grade, int_rate, loan_status\n",
    "\n",
    "Generally Speaking, the columns that have not been located in User feature (general),User feature (financial specific),Secondary application info and Loan general feature would be excluded in the dataset."
   ]
  },
  {
   "cell_type": "markdown",
   "metadata": {},
   "source": [
    "Because the response variabe in the model is loan_status, the features categories should be included in the model are User feature (general),User feature (financial specific), Secondary application info "
   ]
  },
  {
   "cell_type": "markdown",
   "metadata": {},
   "source": [
    "### From the Lending Club Data Dictionary, we know which columns belongs to which categories"
   ]
  },
  {
   "cell_type": "code",
   "execution_count": 5,
   "metadata": {},
   "outputs": [],
   "source": [
    "# the columns are about Current loan payment feature\n",
    "Current_loan_payment_feature = ['last_pymnt_amnt','last_pymnt_d','next_pymnt_d','pymnt_plan','total_pymnt','total_pymnt_inv',\n",
    "                                'total_rec_int','total_rec_late_fee','total_rec_prncp','recoveries','collection_recovery_fee',\n",
    "                                'out_prncp','out_prncp_inv']\n",
    "# the columns are about Hardship \n",
    "Hardship = ['hardship_flag','hardship_type','hardship_reason','hardship_status','deferral_term','hardship_amount', 'hardship_start_date'\n",
    "            ,'hardship_end_date','payment_plan_start_date','hardship_length','hardship_dpd','hardship_loan_status',\n",
    "            'orig_projected_additional_accrued_interest','hardship_payoff_balance_amount','hardship_last_payment_amount']\n",
    "\n",
    "# the columns are about Settlement\n",
    "Settlement = ['debt_settlement_flag','debt_settlement_flag_date','settlement_status','settlement_date','settlement_amount',\n",
    "              'settlement_percentage','settlement_term']"
   ]
  },
  {
   "cell_type": "markdown",
   "metadata": {},
   "source": [
    "#### Drop above three categorical columns "
   ]
  },
  {
   "cell_type": "code",
   "execution_count": 6,
   "metadata": {},
   "outputs": [],
   "source": [
    "for i in [Current_loan_payment_feature,Hardship,Settlement]:\n",
    "    for j in i:\n",
    "        df.drop(j,axis=1, inplace=True)"
   ]
  },
  {
   "cell_type": "code",
   "execution_count": 7,
   "metadata": {},
   "outputs": [
    {
     "data": {
      "text/plain": [
       "(107866, 115)"
      ]
     },
     "execution_count": 7,
     "metadata": {},
     "output_type": "execute_result"
    }
   ],
   "source": [
    "# After dropping the unrelavant columns, there are total 115 columns in the dataset\n",
    "df.shape"
   ]
  },
  {
   "cell_type": "markdown",
   "metadata": {},
   "source": [
    "#### Additionally, the column of ID, url, issue_d are irrelevant to the model building, so they could be dropped, too. \n",
    "- ID:A unique LC assigned ID for the loan listing.\n",
    "- issue_d:The month which the loan was funded\n",
    "- url: URL for the LC page with listing data."
   ]
  },
  {
   "cell_type": "code",
   "execution_count": 8,
   "metadata": {},
   "outputs": [],
   "source": [
    "df.drop(columns=['id','url','issue_d'],inplace= True)"
   ]
  },
  {
   "cell_type": "code",
   "execution_count": 9,
   "metadata": {},
   "outputs": [
    {
     "data": {
      "text/plain": [
       "(107866, 112)"
      ]
     },
     "execution_count": 9,
     "metadata": {},
     "output_type": "execute_result"
    }
   ],
   "source": [
    "# Until now, there are 112 columns in the dataset\n",
    "df.shape"
   ]
  },
  {
   "cell_type": "markdown",
   "metadata": {},
   "source": [
    "### Data cleaning- Missing Value"
   ]
  },
  {
   "cell_type": "markdown",
   "metadata": {},
   "source": [
    "Because of the large dataset with 112 columns, it'd better to have a big picture that missing value consist in the dataset. "
   ]
  },
  {
   "cell_type": "markdown",
   "metadata": {},
   "source": [
    "####  Build a missing table for better understand the dataset "
   ]
  },
  {
   "cell_type": "code",
   "execution_count": 10,
   "metadata": {},
   "outputs": [
    {
     "name": "stdout",
     "output_type": "stream",
     "text": [
      "Your selected dataframe has 112 columns.\n",
      "There are 112 columns that have missing values.\n"
     ]
    },
    {
     "data": {
      "text/html": [
       "<div>\n",
       "<style scoped>\n",
       "    .dataframe tbody tr th:only-of-type {\n",
       "        vertical-align: middle;\n",
       "    }\n",
       "\n",
       "    .dataframe tbody tr th {\n",
       "        vertical-align: top;\n",
       "    }\n",
       "\n",
       "    .dataframe thead th {\n",
       "        text-align: right;\n",
       "    }\n",
       "</style>\n",
       "<table border=\"1\" class=\"dataframe\">\n",
       "  <thead>\n",
       "    <tr style=\"text-align: right;\">\n",
       "      <th></th>\n",
       "      <th>Missing Values</th>\n",
       "      <th>% of Total Values</th>\n",
       "    </tr>\n",
       "  </thead>\n",
       "  <tbody>\n",
       "    <tr>\n",
       "      <th>member_id</th>\n",
       "      <td>107866</td>\n",
       "      <td>100.0</td>\n",
       "    </tr>\n",
       "    <tr>\n",
       "      <th>desc</th>\n",
       "      <td>107866</td>\n",
       "      <td>100.0</td>\n",
       "    </tr>\n",
       "    <tr>\n",
       "      <th>sec_app_mths_since_last_major_derog</th>\n",
       "      <td>102439</td>\n",
       "      <td>95.0</td>\n",
       "    </tr>\n",
       "    <tr>\n",
       "      <th>mths_since_last_record</th>\n",
       "      <td>92597</td>\n",
       "      <td>85.8</td>\n",
       "    </tr>\n",
       "    <tr>\n",
       "      <th>verification_status_joint</th>\n",
       "      <td>91849</td>\n",
       "      <td>85.2</td>\n",
       "    </tr>\n",
       "    <tr>\n",
       "      <th>...</th>\n",
       "      <td>...</td>\n",
       "      <td>...</td>\n",
       "    </tr>\n",
       "    <tr>\n",
       "      <th>application_type</th>\n",
       "      <td>2</td>\n",
       "      <td>0.0</td>\n",
       "    </tr>\n",
       "    <tr>\n",
       "      <th>policy_code</th>\n",
       "      <td>2</td>\n",
       "      <td>0.0</td>\n",
       "    </tr>\n",
       "    <tr>\n",
       "      <th>collections_12_mths_ex_med</th>\n",
       "      <td>2</td>\n",
       "      <td>0.0</td>\n",
       "    </tr>\n",
       "    <tr>\n",
       "      <th>last_fico_range_low</th>\n",
       "      <td>2</td>\n",
       "      <td>0.0</td>\n",
       "    </tr>\n",
       "    <tr>\n",
       "      <th>max_bal_bc</th>\n",
       "      <td>2</td>\n",
       "      <td>0.0</td>\n",
       "    </tr>\n",
       "  </tbody>\n",
       "</table>\n",
       "<p>112 rows × 2 columns</p>\n",
       "</div>"
      ],
      "text/plain": [
       "                                     Missing Values  % of Total Values\n",
       "member_id                                    107866              100.0\n",
       "desc                                         107866              100.0\n",
       "sec_app_mths_since_last_major_derog          102439               95.0\n",
       "mths_since_last_record                        92597               85.8\n",
       "verification_status_joint                     91849               85.2\n",
       "...                                             ...                ...\n",
       "application_type                                  2                0.0\n",
       "policy_code                                       2                0.0\n",
       "collections_12_mths_ex_med                        2                0.0\n",
       "last_fico_range_low                               2                0.0\n",
       "max_bal_bc                                        2                0.0\n",
       "\n",
       "[112 rows x 2 columns]"
      ]
     },
     "execution_count": 10,
     "metadata": {},
     "output_type": "execute_result"
    }
   ],
   "source": [
    "def missing_values_table(df):\n",
    "        mis_val = df.isnull().sum()\n",
    "        mis_val_percent = 100 * df.isnull().sum() / len(df)\n",
    "        mis_val_table = pd.concat([mis_val, mis_val_percent], axis=1)\n",
    "        mis_val_table_ren_columns = mis_val_table.rename(\n",
    "        columns = {0 : 'Missing Values', 1 : '% of Total Values'})\n",
    "        mis_val_table_ren_columns = mis_val_table_ren_columns[\n",
    "            mis_val_table_ren_columns.iloc[:,1] != 0].sort_values(\n",
    "        '% of Total Values', ascending=False).round(1)\n",
    "        print (\"Your selected dataframe has \" + str(df.shape[1]) + \" columns.\\n\"      \n",
    "            \"There are \" + str(mis_val_table_ren_columns.shape[0]) +\n",
    "              \" columns that have missing values.\")\n",
    "        return mis_val_table_ren_columns\n",
    "\n",
    "missing_table = missing_values_table(df)\n",
    "missing_table"
   ]
  },
  {
   "cell_type": "code",
   "execution_count": 11,
   "metadata": {},
   "outputs": [
    {
     "data": {
      "text/html": [
       "<div>\n",
       "<style scoped>\n",
       "    .dataframe tbody tr th:only-of-type {\n",
       "        vertical-align: middle;\n",
       "    }\n",
       "\n",
       "    .dataframe tbody tr th {\n",
       "        vertical-align: top;\n",
       "    }\n",
       "\n",
       "    .dataframe thead th {\n",
       "        text-align: right;\n",
       "    }\n",
       "</style>\n",
       "<table border=\"1\" class=\"dataframe\">\n",
       "  <thead>\n",
       "    <tr style=\"text-align: right;\">\n",
       "      <th></th>\n",
       "      <th>Missing Values</th>\n",
       "      <th>% of Total Values</th>\n",
       "    </tr>\n",
       "  </thead>\n",
       "  <tbody>\n",
       "    <tr>\n",
       "      <th>member_id</th>\n",
       "      <td>107866</td>\n",
       "      <td>100.0</td>\n",
       "    </tr>\n",
       "    <tr>\n",
       "      <th>desc</th>\n",
       "      <td>107866</td>\n",
       "      <td>100.0</td>\n",
       "    </tr>\n",
       "    <tr>\n",
       "      <th>sec_app_mths_since_last_major_derog</th>\n",
       "      <td>102439</td>\n",
       "      <td>95.0</td>\n",
       "    </tr>\n",
       "    <tr>\n",
       "      <th>mths_since_last_record</th>\n",
       "      <td>92597</td>\n",
       "      <td>85.8</td>\n",
       "    </tr>\n",
       "    <tr>\n",
       "      <th>verification_status_joint</th>\n",
       "      <td>91849</td>\n",
       "      <td>85.2</td>\n",
       "    </tr>\n",
       "    <tr>\n",
       "      <th>sec_app_revol_util</th>\n",
       "      <td>91845</td>\n",
       "      <td>85.1</td>\n",
       "    </tr>\n",
       "    <tr>\n",
       "      <th>sec_app_mort_acc</th>\n",
       "      <td>91535</td>\n",
       "      <td>84.9</td>\n",
       "    </tr>\n",
       "    <tr>\n",
       "      <th>dti_joint</th>\n",
       "      <td>91535</td>\n",
       "      <td>84.9</td>\n",
       "    </tr>\n",
       "    <tr>\n",
       "      <th>annual_inc_joint</th>\n",
       "      <td>91535</td>\n",
       "      <td>84.9</td>\n",
       "    </tr>\n",
       "    <tr>\n",
       "      <th>revol_bal_joint</th>\n",
       "      <td>91535</td>\n",
       "      <td>84.9</td>\n",
       "    </tr>\n",
       "    <tr>\n",
       "      <th>sec_app_fico_range_low</th>\n",
       "      <td>91535</td>\n",
       "      <td>84.9</td>\n",
       "    </tr>\n",
       "    <tr>\n",
       "      <th>sec_app_earliest_cr_line</th>\n",
       "      <td>91535</td>\n",
       "      <td>84.9</td>\n",
       "    </tr>\n",
       "    <tr>\n",
       "      <th>sec_app_inq_last_6mths</th>\n",
       "      <td>91535</td>\n",
       "      <td>84.9</td>\n",
       "    </tr>\n",
       "    <tr>\n",
       "      <th>sec_app_fico_range_high</th>\n",
       "      <td>91535</td>\n",
       "      <td>84.9</td>\n",
       "    </tr>\n",
       "    <tr>\n",
       "      <th>sec_app_open_acc</th>\n",
       "      <td>91535</td>\n",
       "      <td>84.9</td>\n",
       "    </tr>\n",
       "    <tr>\n",
       "      <th>sec_app_open_act_il</th>\n",
       "      <td>91535</td>\n",
       "      <td>84.9</td>\n",
       "    </tr>\n",
       "    <tr>\n",
       "      <th>sec_app_num_rev_accts</th>\n",
       "      <td>91535</td>\n",
       "      <td>84.9</td>\n",
       "    </tr>\n",
       "    <tr>\n",
       "      <th>sec_app_chargeoff_within_12_mths</th>\n",
       "      <td>91535</td>\n",
       "      <td>84.9</td>\n",
       "    </tr>\n",
       "    <tr>\n",
       "      <th>sec_app_collections_12_mths_ex_med</th>\n",
       "      <td>91535</td>\n",
       "      <td>84.9</td>\n",
       "    </tr>\n",
       "    <tr>\n",
       "      <th>mths_since_recent_bc_dlq</th>\n",
       "      <td>86568</td>\n",
       "      <td>80.3</td>\n",
       "    </tr>\n",
       "  </tbody>\n",
       "</table>\n",
       "</div>"
      ],
      "text/plain": [
       "                                     Missing Values  % of Total Values\n",
       "member_id                                    107866              100.0\n",
       "desc                                         107866              100.0\n",
       "sec_app_mths_since_last_major_derog          102439               95.0\n",
       "mths_since_last_record                        92597               85.8\n",
       "verification_status_joint                     91849               85.2\n",
       "sec_app_revol_util                            91845               85.1\n",
       "sec_app_mort_acc                              91535               84.9\n",
       "dti_joint                                     91535               84.9\n",
       "annual_inc_joint                              91535               84.9\n",
       "revol_bal_joint                               91535               84.9\n",
       "sec_app_fico_range_low                        91535               84.9\n",
       "sec_app_earliest_cr_line                      91535               84.9\n",
       "sec_app_inq_last_6mths                        91535               84.9\n",
       "sec_app_fico_range_high                       91535               84.9\n",
       "sec_app_open_acc                              91535               84.9\n",
       "sec_app_open_act_il                           91535               84.9\n",
       "sec_app_num_rev_accts                         91535               84.9\n",
       "sec_app_chargeoff_within_12_mths              91535               84.9\n",
       "sec_app_collections_12_mths_ex_med            91535               84.9\n",
       "mths_since_recent_bc_dlq                      86568               80.3"
      ]
     },
     "execution_count": 11,
     "metadata": {},
     "output_type": "execute_result"
    }
   ],
   "source": [
    "df_m = missing_table[missing_table['% of Total Values']>=80]\n",
    "df_m"
   ]
  },
  {
   "cell_type": "markdown",
   "metadata": {},
   "source": [
    "####  Before understand the deep meaning of all columns, the columns with all missing value could be dropped firstly."
   ]
  },
  {
   "cell_type": "code",
   "execution_count": 12,
   "metadata": {},
   "outputs": [
    {
     "data": {
      "text/plain": [
       "(107866, 110)"
      ]
     },
     "execution_count": 12,
     "metadata": {},
     "output_type": "execute_result"
    }
   ],
   "source": [
    "df.dropna(axis = 1, how='all', inplace=True)\n",
    "df.shape"
   ]
  },
  {
   "cell_type": "code",
   "execution_count": 13,
   "metadata": {},
   "outputs": [
    {
     "data": {
      "text/plain": [
       "(107864, 110)"
      ]
     },
     "execution_count": 13,
     "metadata": {},
     "output_type": "execute_result"
    }
   ],
   "source": [
    "# drop the rows that are all missing value, so there have been two rows dropped. \n",
    "df = df.dropna(how='all')\n",
    "df.shape "
   ]
  },
  {
   "cell_type": "markdown",
   "metadata": {},
   "source": [
    "### Drop columns with only containing the distinct value"
   ]
  },
  {
   "cell_type": "code",
   "execution_count": 14,
   "metadata": {},
   "outputs": [
    {
     "data": {
      "text/plain": [
       "['policy_code', 'num_tl_120dpd_2m']"
      ]
     },
     "execution_count": 14,
     "metadata": {},
     "output_type": "execute_result"
    }
   ],
   "source": [
    "drop_cols = [c for c in list(df) if df[c].nunique()<=1]\n",
    "drop_cols"
   ]
  },
  {
   "cell_type": "code",
   "execution_count": 15,
   "metadata": {},
   "outputs": [],
   "source": [
    "df.drop([ 'policy_code', 'num_tl_120dpd_2m'],axis =1,inplace=True)"
   ]
  },
  {
   "cell_type": "markdown",
   "metadata": {},
   "source": [
    "### drop the deplicated rows in dataframe"
   ]
  },
  {
   "cell_type": "code",
   "execution_count": 16,
   "metadata": {},
   "outputs": [
    {
     "data": {
      "text/html": [
       "<div>\n",
       "<style scoped>\n",
       "    .dataframe tbody tr th:only-of-type {\n",
       "        vertical-align: middle;\n",
       "    }\n",
       "\n",
       "    .dataframe tbody tr th {\n",
       "        vertical-align: top;\n",
       "    }\n",
       "\n",
       "    .dataframe thead th {\n",
       "        text-align: right;\n",
       "    }\n",
       "</style>\n",
       "<table border=\"1\" class=\"dataframe\">\n",
       "  <thead>\n",
       "    <tr style=\"text-align: right;\">\n",
       "      <th></th>\n",
       "      <th>loan_amnt</th>\n",
       "      <th>funded_amnt</th>\n",
       "      <th>funded_amnt_inv</th>\n",
       "      <th>term</th>\n",
       "      <th>int_rate</th>\n",
       "      <th>installment</th>\n",
       "      <th>grade</th>\n",
       "      <th>sub_grade</th>\n",
       "      <th>emp_title</th>\n",
       "      <th>emp_length</th>\n",
       "      <th>...</th>\n",
       "      <th>sec_app_earliest_cr_line</th>\n",
       "      <th>sec_app_inq_last_6mths</th>\n",
       "      <th>sec_app_mort_acc</th>\n",
       "      <th>sec_app_open_acc</th>\n",
       "      <th>sec_app_revol_util</th>\n",
       "      <th>sec_app_open_act_il</th>\n",
       "      <th>sec_app_num_rev_accts</th>\n",
       "      <th>sec_app_chargeoff_within_12_mths</th>\n",
       "      <th>sec_app_collections_12_mths_ex_med</th>\n",
       "      <th>sec_app_mths_since_last_major_derog</th>\n",
       "    </tr>\n",
       "  </thead>\n",
       "  <tbody>\n",
       "  </tbody>\n",
       "</table>\n",
       "<p>0 rows × 108 columns</p>\n",
       "</div>"
      ],
      "text/plain": [
       "Empty DataFrame\n",
       "Columns: [loan_amnt, funded_amnt, funded_amnt_inv, term, int_rate, installment, grade, sub_grade, emp_title, emp_length, home_ownership, annual_inc, verification_status, loan_status, purpose, title, zip_code, addr_state, dti, delinq_2yrs, earliest_cr_line, fico_range_low, fico_range_high, inq_last_6mths, mths_since_last_delinq, mths_since_last_record, open_acc, pub_rec, revol_bal, revol_util, total_acc, initial_list_status, last_credit_pull_d, last_fico_range_high, last_fico_range_low, collections_12_mths_ex_med, mths_since_last_major_derog, application_type, annual_inc_joint, dti_joint, verification_status_joint, acc_now_delinq, tot_coll_amt, tot_cur_bal, open_acc_6m, open_act_il, open_il_12m, open_il_24m, mths_since_rcnt_il, total_bal_il, il_util, open_rv_12m, open_rv_24m, max_bal_bc, all_util, total_rev_hi_lim, inq_fi, total_cu_tl, inq_last_12m, acc_open_past_24mths, avg_cur_bal, bc_open_to_buy, bc_util, chargeoff_within_12_mths, delinq_amnt, mo_sin_old_il_acct, mo_sin_old_rev_tl_op, mo_sin_rcnt_rev_tl_op, mo_sin_rcnt_tl, mort_acc, mths_since_recent_bc, mths_since_recent_bc_dlq, mths_since_recent_inq, mths_since_recent_revol_delinq, num_accts_ever_120_pd, num_actv_bc_tl, num_actv_rev_tl, num_bc_sats, num_bc_tl, num_il_tl, num_op_rev_tl, num_rev_accts, num_rev_tl_bal_gt_0, num_sats, num_tl_30dpd, num_tl_90g_dpd_24m, num_tl_op_past_12m, pct_tl_nvr_dlq, percent_bc_gt_75, pub_rec_bankruptcies, tax_liens, tot_hi_cred_lim, total_bal_ex_mort, total_bc_limit, total_il_high_credit_limit, revol_bal_joint, sec_app_fico_range_low, sec_app_fico_range_high, sec_app_earliest_cr_line, sec_app_inq_last_6mths, ...]\n",
       "Index: []\n",
       "\n",
       "[0 rows x 108 columns]"
      ]
     },
     "execution_count": 16,
     "metadata": {},
     "output_type": "execute_result"
    }
   ],
   "source": [
    "# Select all duplicate rows based on all columns and it found out that no row that are duplicated   \n",
    "df_duplicate = df[df.duplicated(keep = False)]\n",
    "df_duplicate"
   ]
  },
  {
   "cell_type": "markdown",
   "metadata": {},
   "source": [
    "### Check the correlations between these variables."
   ]
  },
  {
   "cell_type": "markdown",
   "metadata": {},
   "source": [
    "Explore weather there are some columns which are highly multicolinearity,if yes, it could be dropped one of them due to the lots of columns existing."
   ]
  },
  {
   "cell_type": "code",
   "execution_count": null,
   "metadata": {},
   "outputs": [],
   "source": [
    "# Generally, the default correlation coefficent of .corr() method is the Pearson correlation coefficient, which shows us how close to a \n",
    "# straight  line the data-point fall and is a number between -1 and 1. "
   ]
  },
  {
   "cell_type": "code",
   "execution_count": 17,
   "metadata": {},
   "outputs": [],
   "source": [
    "# At current stage, the high correlation variables should be paid attention.  \n",
    "corr_matrix = df.corr().abs()\n",
    "sol = (corr_matrix.where(np.triu(np.ones(corr_matrix.shape), k=1).astype(np.bool))\n",
    "                  .stack()\n",
    "                  .sort_values(ascending=False))"
   ]
  },
  {
   "cell_type": "code",
   "execution_count": 18,
   "metadata": {},
   "outputs": [],
   "source": [
    "sol_df = pd.DataFrame(sol)"
   ]
  },
  {
   "cell_type": "code",
   "execution_count": 19,
   "metadata": {},
   "outputs": [],
   "source": [
    "# Set the two indexes into columns\n",
    "sol_df.reset_index(inplace=True)"
   ]
  },
  {
   "cell_type": "code",
   "execution_count": 20,
   "metadata": {},
   "outputs": [],
   "source": [
    "# rename each column \n",
    "sol_df.rename(columns={'level_0':'var_1','level_1':'var_2',0:'cor_coef'},inplace=True)"
   ]
  },
  {
   "cell_type": "code",
   "execution_count": 27,
   "metadata": {},
   "outputs": [
    {
     "data": {
      "text/html": [
       "<div>\n",
       "<style scoped>\n",
       "    .dataframe tbody tr th:only-of-type {\n",
       "        vertical-align: middle;\n",
       "    }\n",
       "\n",
       "    .dataframe tbody tr th {\n",
       "        vertical-align: top;\n",
       "    }\n",
       "\n",
       "    .dataframe thead th {\n",
       "        text-align: right;\n",
       "    }\n",
       "</style>\n",
       "<table border=\"1\" class=\"dataframe\">\n",
       "  <thead>\n",
       "    <tr style=\"text-align: right;\">\n",
       "      <th></th>\n",
       "      <th>var_1</th>\n",
       "      <th>var_2</th>\n",
       "      <th>cor_coef</th>\n",
       "    </tr>\n",
       "  </thead>\n",
       "  <tbody>\n",
       "    <tr>\n",
       "      <th>0</th>\n",
       "      <td>loan_amnt</td>\n",
       "      <td>funded_amnt</td>\n",
       "      <td>1.000000</td>\n",
       "    </tr>\n",
       "    <tr>\n",
       "      <th>1</th>\n",
       "      <td>sec_app_fico_range_low</td>\n",
       "      <td>sec_app_fico_range_high</td>\n",
       "      <td>1.000000</td>\n",
       "    </tr>\n",
       "    <tr>\n",
       "      <th>2</th>\n",
       "      <td>fico_range_low</td>\n",
       "      <td>fico_range_high</td>\n",
       "      <td>1.000000</td>\n",
       "    </tr>\n",
       "    <tr>\n",
       "      <th>3</th>\n",
       "      <td>loan_amnt</td>\n",
       "      <td>funded_amnt_inv</td>\n",
       "      <td>0.999996</td>\n",
       "    </tr>\n",
       "    <tr>\n",
       "      <th>4</th>\n",
       "      <td>funded_amnt</td>\n",
       "      <td>funded_amnt_inv</td>\n",
       "      <td>0.999996</td>\n",
       "    </tr>\n",
       "    <tr>\n",
       "      <th>...</th>\n",
       "      <td>...</td>\n",
       "      <td>...</td>\n",
       "      <td>...</td>\n",
       "    </tr>\n",
       "    <tr>\n",
       "      <th>3795</th>\n",
       "      <td>tot_coll_amt</td>\n",
       "      <td>open_il_12m</td>\n",
       "      <td>0.000052</td>\n",
       "    </tr>\n",
       "    <tr>\n",
       "      <th>3796</th>\n",
       "      <td>total_cu_tl</td>\n",
       "      <td>bc_util</td>\n",
       "      <td>0.000045</td>\n",
       "    </tr>\n",
       "    <tr>\n",
       "      <th>3797</th>\n",
       "      <td>installment</td>\n",
       "      <td>tot_coll_amt</td>\n",
       "      <td>0.000035</td>\n",
       "    </tr>\n",
       "    <tr>\n",
       "      <th>3798</th>\n",
       "      <td>delinq_amnt</td>\n",
       "      <td>num_actv_bc_tl</td>\n",
       "      <td>0.000031</td>\n",
       "    </tr>\n",
       "    <tr>\n",
       "      <th>3799</th>\n",
       "      <td>delinq_amnt</td>\n",
       "      <td>num_tl_op_past_12m</td>\n",
       "      <td>0.000030</td>\n",
       "    </tr>\n",
       "  </tbody>\n",
       "</table>\n",
       "<p>3800 rows × 3 columns</p>\n",
       "</div>"
      ],
      "text/plain": [
       "                       var_1                    var_2  cor_coef\n",
       "0                  loan_amnt              funded_amnt  1.000000\n",
       "1     sec_app_fico_range_low  sec_app_fico_range_high  1.000000\n",
       "2             fico_range_low          fico_range_high  1.000000\n",
       "3                  loan_amnt          funded_amnt_inv  0.999996\n",
       "4                funded_amnt          funded_amnt_inv  0.999996\n",
       "...                      ...                      ...       ...\n",
       "3795            tot_coll_amt              open_il_12m  0.000052\n",
       "3796             total_cu_tl                  bc_util  0.000045\n",
       "3797             installment             tot_coll_amt  0.000035\n",
       "3798             delinq_amnt           num_actv_bc_tl  0.000031\n",
       "3799             delinq_amnt       num_tl_op_past_12m  0.000030\n",
       "\n",
       "[3800 rows x 3 columns]"
      ]
     },
     "execution_count": 27,
     "metadata": {},
     "output_type": "execute_result"
    }
   ],
   "source": [
    "sol_df"
   ]
  },
  {
   "cell_type": "markdown",
   "metadata": {},
   "source": [
    "#### Select all columns that their value is greater 80%."
   ]
  },
  {
   "cell_type": "markdown",
   "metadata": {},
   "source": [
    "High Correlation Coefficients\n",
    "Pairwise correlations among independent variables might be high (in absolute value).\n",
    "Rule of thumb: If the correlation > 0.8 then severe multicollinearity may be present. "
   ]
  },
  {
   "cell_type": "code",
   "execution_count": 25,
   "metadata": {},
   "outputs": [
    {
     "data": {
      "text/html": [
       "<div>\n",
       "<style scoped>\n",
       "    .dataframe tbody tr th:only-of-type {\n",
       "        vertical-align: middle;\n",
       "    }\n",
       "\n",
       "    .dataframe tbody tr th {\n",
       "        vertical-align: top;\n",
       "    }\n",
       "\n",
       "    .dataframe thead th {\n",
       "        text-align: right;\n",
       "    }\n",
       "</style>\n",
       "<table border=\"1\" class=\"dataframe\">\n",
       "  <thead>\n",
       "    <tr style=\"text-align: right;\">\n",
       "      <th></th>\n",
       "      <th>var_1</th>\n",
       "      <th>var_2</th>\n",
       "      <th>cor_coef</th>\n",
       "    </tr>\n",
       "  </thead>\n",
       "  <tbody>\n",
       "    <tr>\n",
       "      <th>0</th>\n",
       "      <td>loan_amnt</td>\n",
       "      <td>funded_amnt</td>\n",
       "      <td>1.000000</td>\n",
       "    </tr>\n",
       "    <tr>\n",
       "      <th>1</th>\n",
       "      <td>sec_app_fico_range_low</td>\n",
       "      <td>sec_app_fico_range_high</td>\n",
       "      <td>1.000000</td>\n",
       "    </tr>\n",
       "    <tr>\n",
       "      <th>2</th>\n",
       "      <td>fico_range_low</td>\n",
       "      <td>fico_range_high</td>\n",
       "      <td>1.000000</td>\n",
       "    </tr>\n",
       "    <tr>\n",
       "      <th>3</th>\n",
       "      <td>loan_amnt</td>\n",
       "      <td>funded_amnt_inv</td>\n",
       "      <td>0.999996</td>\n",
       "    </tr>\n",
       "    <tr>\n",
       "      <th>4</th>\n",
       "      <td>funded_amnt</td>\n",
       "      <td>funded_amnt_inv</td>\n",
       "      <td>0.999996</td>\n",
       "    </tr>\n",
       "    <tr>\n",
       "      <th>5</th>\n",
       "      <td>open_acc</td>\n",
       "      <td>num_sats</td>\n",
       "      <td>0.999464</td>\n",
       "    </tr>\n",
       "    <tr>\n",
       "      <th>6</th>\n",
       "      <td>num_actv_rev_tl</td>\n",
       "      <td>num_rev_tl_bal_gt_0</td>\n",
       "      <td>0.985972</td>\n",
       "    </tr>\n",
       "    <tr>\n",
       "      <th>7</th>\n",
       "      <td>tot_cur_bal</td>\n",
       "      <td>tot_hi_cred_lim</td>\n",
       "      <td>0.981144</td>\n",
       "    </tr>\n",
       "    <tr>\n",
       "      <th>8</th>\n",
       "      <td>total_bal_il</td>\n",
       "      <td>total_il_high_credit_limit</td>\n",
       "      <td>0.949234</td>\n",
       "    </tr>\n",
       "    <tr>\n",
       "      <th>9</th>\n",
       "      <td>loan_amnt</td>\n",
       "      <td>installment</td>\n",
       "      <td>0.944942</td>\n",
       "    </tr>\n",
       "    <tr>\n",
       "      <th>10</th>\n",
       "      <td>funded_amnt</td>\n",
       "      <td>installment</td>\n",
       "      <td>0.944942</td>\n",
       "    </tr>\n",
       "    <tr>\n",
       "      <th>11</th>\n",
       "      <td>funded_amnt_inv</td>\n",
       "      <td>installment</td>\n",
       "      <td>0.944839</td>\n",
       "    </tr>\n",
       "    <tr>\n",
       "      <th>12</th>\n",
       "      <td>acc_now_delinq</td>\n",
       "      <td>num_tl_30dpd</td>\n",
       "      <td>0.940527</td>\n",
       "    </tr>\n",
       "    <tr>\n",
       "      <th>13</th>\n",
       "      <td>total_bal_il</td>\n",
       "      <td>total_bal_ex_mort</td>\n",
       "      <td>0.907411</td>\n",
       "    </tr>\n",
       "    <tr>\n",
       "      <th>14</th>\n",
       "      <td>mths_since_recent_bc_dlq</td>\n",
       "      <td>mths_since_recent_revol_delinq</td>\n",
       "      <td>0.893902</td>\n",
       "    </tr>\n",
       "    <tr>\n",
       "      <th>15</th>\n",
       "      <td>total_bal_ex_mort</td>\n",
       "      <td>total_il_high_credit_limit</td>\n",
       "      <td>0.890592</td>\n",
       "    </tr>\n",
       "    <tr>\n",
       "      <th>16</th>\n",
       "      <td>bc_open_to_buy</td>\n",
       "      <td>total_bc_limit</td>\n",
       "      <td>0.867218</td>\n",
       "    </tr>\n",
       "    <tr>\n",
       "      <th>17</th>\n",
       "      <td>mths_since_last_delinq</td>\n",
       "      <td>mths_since_recent_revol_delinq</td>\n",
       "      <td>0.860612</td>\n",
       "    </tr>\n",
       "    <tr>\n",
       "      <th>18</th>\n",
       "      <td>open_acc</td>\n",
       "      <td>num_op_rev_tl</td>\n",
       "      <td>0.854261</td>\n",
       "    </tr>\n",
       "    <tr>\n",
       "      <th>19</th>\n",
       "      <td>num_op_rev_tl</td>\n",
       "      <td>num_sats</td>\n",
       "      <td>0.853703</td>\n",
       "    </tr>\n",
       "    <tr>\n",
       "      <th>20</th>\n",
       "      <td>last_fico_range_high</td>\n",
       "      <td>last_fico_range_low</td>\n",
       "      <td>0.852071</td>\n",
       "    </tr>\n",
       "    <tr>\n",
       "      <th>21</th>\n",
       "      <td>num_actv_bc_tl</td>\n",
       "      <td>num_actv_rev_tl</td>\n",
       "      <td>0.849102</td>\n",
       "    </tr>\n",
       "    <tr>\n",
       "      <th>22</th>\n",
       "      <td>open_rv_24m</td>\n",
       "      <td>acc_open_past_24mths</td>\n",
       "      <td>0.848753</td>\n",
       "    </tr>\n",
       "    <tr>\n",
       "      <th>23</th>\n",
       "      <td>num_bc_tl</td>\n",
       "      <td>num_rev_accts</td>\n",
       "      <td>0.844582</td>\n",
       "    </tr>\n",
       "    <tr>\n",
       "      <th>24</th>\n",
       "      <td>num_actv_bc_tl</td>\n",
       "      <td>num_rev_tl_bal_gt_0</td>\n",
       "      <td>0.843279</td>\n",
       "    </tr>\n",
       "    <tr>\n",
       "      <th>25</th>\n",
       "      <td>bc_util</td>\n",
       "      <td>percent_bc_gt_75</td>\n",
       "      <td>0.841719</td>\n",
       "    </tr>\n",
       "    <tr>\n",
       "      <th>26</th>\n",
       "      <td>open_rv_12m</td>\n",
       "      <td>num_tl_op_past_12m</td>\n",
       "      <td>0.840773</td>\n",
       "    </tr>\n",
       "    <tr>\n",
       "      <th>27</th>\n",
       "      <td>num_op_rev_tl</td>\n",
       "      <td>num_rev_accts</td>\n",
       "      <td>0.829068</td>\n",
       "    </tr>\n",
       "    <tr>\n",
       "      <th>28</th>\n",
       "      <td>num_actv_bc_tl</td>\n",
       "      <td>num_bc_sats</td>\n",
       "      <td>0.827612</td>\n",
       "    </tr>\n",
       "    <tr>\n",
       "      <th>29</th>\n",
       "      <td>total_rev_hi_lim</td>\n",
       "      <td>total_bc_limit</td>\n",
       "      <td>0.826346</td>\n",
       "    </tr>\n",
       "    <tr>\n",
       "      <th>30</th>\n",
       "      <td>tot_cur_bal</td>\n",
       "      <td>avg_cur_bal</td>\n",
       "      <td>0.817899</td>\n",
       "    </tr>\n",
       "    <tr>\n",
       "      <th>31</th>\n",
       "      <td>num_bc_sats</td>\n",
       "      <td>num_bc_tl</td>\n",
       "      <td>0.807642</td>\n",
       "    </tr>\n",
       "  </tbody>\n",
       "</table>\n",
       "</div>"
      ],
      "text/plain": [
       "                       var_1                           var_2  cor_coef\n",
       "0                  loan_amnt                     funded_amnt  1.000000\n",
       "1     sec_app_fico_range_low         sec_app_fico_range_high  1.000000\n",
       "2             fico_range_low                 fico_range_high  1.000000\n",
       "3                  loan_amnt                 funded_amnt_inv  0.999996\n",
       "4                funded_amnt                 funded_amnt_inv  0.999996\n",
       "5                   open_acc                        num_sats  0.999464\n",
       "6            num_actv_rev_tl             num_rev_tl_bal_gt_0  0.985972\n",
       "7                tot_cur_bal                 tot_hi_cred_lim  0.981144\n",
       "8               total_bal_il      total_il_high_credit_limit  0.949234\n",
       "9                  loan_amnt                     installment  0.944942\n",
       "10               funded_amnt                     installment  0.944942\n",
       "11           funded_amnt_inv                     installment  0.944839\n",
       "12            acc_now_delinq                    num_tl_30dpd  0.940527\n",
       "13              total_bal_il               total_bal_ex_mort  0.907411\n",
       "14  mths_since_recent_bc_dlq  mths_since_recent_revol_delinq  0.893902\n",
       "15         total_bal_ex_mort      total_il_high_credit_limit  0.890592\n",
       "16            bc_open_to_buy                  total_bc_limit  0.867218\n",
       "17    mths_since_last_delinq  mths_since_recent_revol_delinq  0.860612\n",
       "18                  open_acc                   num_op_rev_tl  0.854261\n",
       "19             num_op_rev_tl                        num_sats  0.853703\n",
       "20      last_fico_range_high             last_fico_range_low  0.852071\n",
       "21            num_actv_bc_tl                 num_actv_rev_tl  0.849102\n",
       "22               open_rv_24m            acc_open_past_24mths  0.848753\n",
       "23                 num_bc_tl                   num_rev_accts  0.844582\n",
       "24            num_actv_bc_tl             num_rev_tl_bal_gt_0  0.843279\n",
       "25                   bc_util                percent_bc_gt_75  0.841719\n",
       "26               open_rv_12m              num_tl_op_past_12m  0.840773\n",
       "27             num_op_rev_tl                   num_rev_accts  0.829068\n",
       "28            num_actv_bc_tl                     num_bc_sats  0.827612\n",
       "29          total_rev_hi_lim                  total_bc_limit  0.826346\n",
       "30               tot_cur_bal                     avg_cur_bal  0.817899\n",
       "31               num_bc_sats                       num_bc_tl  0.807642"
      ]
     },
     "execution_count": 25,
     "metadata": {},
     "output_type": "execute_result"
    }
   ],
   "source": [
    "high_cor = sol_df[sol_df['cor_coef']>= 0.8]\n",
    "high_cor"
   ]
  },
  {
   "cell_type": "code",
   "execution_count": 27,
   "metadata": {},
   "outputs": [
    {
     "name": "stderr",
     "output_type": "stream",
     "text": [
      "C:\\Users\\rhoda\\Anaconda3\\lib\\site-packages\\ipykernel_launcher.py:2: SettingWithCopyWarning: \n",
      "A value is trying to be set on a copy of a slice from a DataFrame.\n",
      "Try using .loc[row_indexer,col_indexer] = value instead\n",
      "\n",
      "See the caveats in the documentation: https://pandas.pydata.org/pandas-docs/stable/user_guide/indexing.html#returning-a-view-versus-a-copy\n",
      "  \n",
      "C:\\Users\\rhoda\\Anaconda3\\lib\\site-packages\\ipykernel_launcher.py:3: SettingWithCopyWarning: \n",
      "A value is trying to be set on a copy of a slice from a DataFrame.\n",
      "Try using .loc[row_indexer,col_indexer] = value instead\n",
      "\n",
      "See the caveats in the documentation: https://pandas.pydata.org/pandas-docs/stable/user_guide/indexing.html#returning-a-view-versus-a-copy\n",
      "  This is separate from the ipykernel package so we can avoid doing imports until\n"
     ]
    }
   ],
   "source": [
    "# Calculate the number of each columns and drop the columns with more missing value\n",
    "high_cor['var_1_miss'] = [df[i].isnull().sum() for i in high_cor['var_1']]\n",
    "high_cor['var_2_miss'] = [df[i].isnull().sum() for i in high_cor['var_2']]"
   ]
  },
  {
   "cell_type": "markdown",
   "metadata": {},
   "source": [
    "From below table, the value in var_1_miss less or equal than var_2_miss, except 'mths_since_recent_bc_dlq' and 'percent_bc_gt_75'"
   ]
  },
  {
   "cell_type": "code",
   "execution_count": 36,
   "metadata": {},
   "outputs": [
    {
     "data": {
      "text/html": [
       "<div>\n",
       "<style scoped>\n",
       "    .dataframe tbody tr th:only-of-type {\n",
       "        vertical-align: middle;\n",
       "    }\n",
       "\n",
       "    .dataframe tbody tr th {\n",
       "        vertical-align: top;\n",
       "    }\n",
       "\n",
       "    .dataframe thead th {\n",
       "        text-align: right;\n",
       "    }\n",
       "</style>\n",
       "<table border=\"1\" class=\"dataframe\">\n",
       "  <thead>\n",
       "    <tr style=\"text-align: right;\">\n",
       "      <th></th>\n",
       "      <th>var_1</th>\n",
       "      <th>var_2</th>\n",
       "      <th>cor_coef</th>\n",
       "      <th>var_1_miss</th>\n",
       "      <th>var_2_miss</th>\n",
       "    </tr>\n",
       "  </thead>\n",
       "  <tbody>\n",
       "    <tr>\n",
       "      <th>0</th>\n",
       "      <td>loan_amnt</td>\n",
       "      <td>funded_amnt</td>\n",
       "      <td>1.000000</td>\n",
       "      <td>0</td>\n",
       "      <td>0</td>\n",
       "    </tr>\n",
       "    <tr>\n",
       "      <th>1</th>\n",
       "      <td>sec_app_fico_range_low</td>\n",
       "      <td>sec_app_fico_range_high</td>\n",
       "      <td>1.000000</td>\n",
       "      <td>91533</td>\n",
       "      <td>91533</td>\n",
       "    </tr>\n",
       "    <tr>\n",
       "      <th>2</th>\n",
       "      <td>fico_range_low</td>\n",
       "      <td>fico_range_high</td>\n",
       "      <td>1.000000</td>\n",
       "      <td>0</td>\n",
       "      <td>0</td>\n",
       "    </tr>\n",
       "    <tr>\n",
       "      <th>3</th>\n",
       "      <td>loan_amnt</td>\n",
       "      <td>funded_amnt_inv</td>\n",
       "      <td>0.999996</td>\n",
       "      <td>0</td>\n",
       "      <td>0</td>\n",
       "    </tr>\n",
       "    <tr>\n",
       "      <th>4</th>\n",
       "      <td>funded_amnt</td>\n",
       "      <td>funded_amnt_inv</td>\n",
       "      <td>0.999996</td>\n",
       "      <td>0</td>\n",
       "      <td>0</td>\n",
       "    </tr>\n",
       "    <tr>\n",
       "      <th>5</th>\n",
       "      <td>open_acc</td>\n",
       "      <td>num_sats</td>\n",
       "      <td>0.999464</td>\n",
       "      <td>0</td>\n",
       "      <td>0</td>\n",
       "    </tr>\n",
       "    <tr>\n",
       "      <th>6</th>\n",
       "      <td>num_actv_rev_tl</td>\n",
       "      <td>num_rev_tl_bal_gt_0</td>\n",
       "      <td>0.985972</td>\n",
       "      <td>0</td>\n",
       "      <td>0</td>\n",
       "    </tr>\n",
       "    <tr>\n",
       "      <th>7</th>\n",
       "      <td>tot_cur_bal</td>\n",
       "      <td>tot_hi_cred_lim</td>\n",
       "      <td>0.981144</td>\n",
       "      <td>0</td>\n",
       "      <td>0</td>\n",
       "    </tr>\n",
       "    <tr>\n",
       "      <th>8</th>\n",
       "      <td>total_bal_il</td>\n",
       "      <td>total_il_high_credit_limit</td>\n",
       "      <td>0.949234</td>\n",
       "      <td>0</td>\n",
       "      <td>0</td>\n",
       "    </tr>\n",
       "    <tr>\n",
       "      <th>9</th>\n",
       "      <td>loan_amnt</td>\n",
       "      <td>installment</td>\n",
       "      <td>0.944942</td>\n",
       "      <td>0</td>\n",
       "      <td>0</td>\n",
       "    </tr>\n",
       "    <tr>\n",
       "      <th>10</th>\n",
       "      <td>funded_amnt</td>\n",
       "      <td>installment</td>\n",
       "      <td>0.944942</td>\n",
       "      <td>0</td>\n",
       "      <td>0</td>\n",
       "    </tr>\n",
       "    <tr>\n",
       "      <th>11</th>\n",
       "      <td>funded_amnt_inv</td>\n",
       "      <td>installment</td>\n",
       "      <td>0.944839</td>\n",
       "      <td>0</td>\n",
       "      <td>0</td>\n",
       "    </tr>\n",
       "    <tr>\n",
       "      <th>12</th>\n",
       "      <td>acc_now_delinq</td>\n",
       "      <td>num_tl_30dpd</td>\n",
       "      <td>0.940527</td>\n",
       "      <td>0</td>\n",
       "      <td>0</td>\n",
       "    </tr>\n",
       "    <tr>\n",
       "      <th>13</th>\n",
       "      <td>total_bal_il</td>\n",
       "      <td>total_bal_ex_mort</td>\n",
       "      <td>0.907411</td>\n",
       "      <td>0</td>\n",
       "      <td>0</td>\n",
       "    </tr>\n",
       "    <tr>\n",
       "      <th>14</th>\n",
       "      <td>mths_since_recent_bc_dlq</td>\n",
       "      <td>mths_since_recent_revol_delinq</td>\n",
       "      <td>0.893902</td>\n",
       "      <td>86566</td>\n",
       "      <td>77038</td>\n",
       "    </tr>\n",
       "    <tr>\n",
       "      <th>15</th>\n",
       "      <td>total_bal_ex_mort</td>\n",
       "      <td>total_il_high_credit_limit</td>\n",
       "      <td>0.890592</td>\n",
       "      <td>0</td>\n",
       "      <td>0</td>\n",
       "    </tr>\n",
       "    <tr>\n",
       "      <th>16</th>\n",
       "      <td>bc_open_to_buy</td>\n",
       "      <td>total_bc_limit</td>\n",
       "      <td>0.867218</td>\n",
       "      <td>1510</td>\n",
       "      <td>0</td>\n",
       "    </tr>\n",
       "    <tr>\n",
       "      <th>17</th>\n",
       "      <td>mths_since_last_delinq</td>\n",
       "      <td>mths_since_recent_revol_delinq</td>\n",
       "      <td>0.860612</td>\n",
       "      <td>60695</td>\n",
       "      <td>77038</td>\n",
       "    </tr>\n",
       "    <tr>\n",
       "      <th>18</th>\n",
       "      <td>open_acc</td>\n",
       "      <td>num_op_rev_tl</td>\n",
       "      <td>0.854261</td>\n",
       "      <td>0</td>\n",
       "      <td>0</td>\n",
       "    </tr>\n",
       "    <tr>\n",
       "      <th>19</th>\n",
       "      <td>num_op_rev_tl</td>\n",
       "      <td>num_sats</td>\n",
       "      <td>0.853703</td>\n",
       "      <td>0</td>\n",
       "      <td>0</td>\n",
       "    </tr>\n",
       "    <tr>\n",
       "      <th>20</th>\n",
       "      <td>last_fico_range_high</td>\n",
       "      <td>last_fico_range_low</td>\n",
       "      <td>0.852071</td>\n",
       "      <td>0</td>\n",
       "      <td>0</td>\n",
       "    </tr>\n",
       "    <tr>\n",
       "      <th>21</th>\n",
       "      <td>num_actv_bc_tl</td>\n",
       "      <td>num_actv_rev_tl</td>\n",
       "      <td>0.849102</td>\n",
       "      <td>0</td>\n",
       "      <td>0</td>\n",
       "    </tr>\n",
       "    <tr>\n",
       "      <th>22</th>\n",
       "      <td>open_rv_24m</td>\n",
       "      <td>acc_open_past_24mths</td>\n",
       "      <td>0.848753</td>\n",
       "      <td>0</td>\n",
       "      <td>0</td>\n",
       "    </tr>\n",
       "    <tr>\n",
       "      <th>23</th>\n",
       "      <td>num_bc_tl</td>\n",
       "      <td>num_rev_accts</td>\n",
       "      <td>0.844582</td>\n",
       "      <td>0</td>\n",
       "      <td>0</td>\n",
       "    </tr>\n",
       "    <tr>\n",
       "      <th>24</th>\n",
       "      <td>num_actv_bc_tl</td>\n",
       "      <td>num_rev_tl_bal_gt_0</td>\n",
       "      <td>0.843279</td>\n",
       "      <td>0</td>\n",
       "      <td>0</td>\n",
       "    </tr>\n",
       "    <tr>\n",
       "      <th>25</th>\n",
       "      <td>bc_util</td>\n",
       "      <td>percent_bc_gt_75</td>\n",
       "      <td>0.841719</td>\n",
       "      <td>1561</td>\n",
       "      <td>1514</td>\n",
       "    </tr>\n",
       "    <tr>\n",
       "      <th>26</th>\n",
       "      <td>open_rv_12m</td>\n",
       "      <td>num_tl_op_past_12m</td>\n",
       "      <td>0.840773</td>\n",
       "      <td>0</td>\n",
       "      <td>0</td>\n",
       "    </tr>\n",
       "    <tr>\n",
       "      <th>27</th>\n",
       "      <td>num_op_rev_tl</td>\n",
       "      <td>num_rev_accts</td>\n",
       "      <td>0.829068</td>\n",
       "      <td>0</td>\n",
       "      <td>0</td>\n",
       "    </tr>\n",
       "    <tr>\n",
       "      <th>28</th>\n",
       "      <td>num_actv_bc_tl</td>\n",
       "      <td>num_bc_sats</td>\n",
       "      <td>0.827612</td>\n",
       "      <td>0</td>\n",
       "      <td>0</td>\n",
       "    </tr>\n",
       "    <tr>\n",
       "      <th>29</th>\n",
       "      <td>total_rev_hi_lim</td>\n",
       "      <td>total_bc_limit</td>\n",
       "      <td>0.826346</td>\n",
       "      <td>0</td>\n",
       "      <td>0</td>\n",
       "    </tr>\n",
       "    <tr>\n",
       "      <th>30</th>\n",
       "      <td>tot_cur_bal</td>\n",
       "      <td>avg_cur_bal</td>\n",
       "      <td>0.817899</td>\n",
       "      <td>0</td>\n",
       "      <td>10</td>\n",
       "    </tr>\n",
       "    <tr>\n",
       "      <th>31</th>\n",
       "      <td>num_bc_sats</td>\n",
       "      <td>num_bc_tl</td>\n",
       "      <td>0.807642</td>\n",
       "      <td>0</td>\n",
       "      <td>0</td>\n",
       "    </tr>\n",
       "  </tbody>\n",
       "</table>\n",
       "</div>"
      ],
      "text/plain": [
       "                       var_1                           var_2  cor_coef  \\\n",
       "0                  loan_amnt                     funded_amnt  1.000000   \n",
       "1     sec_app_fico_range_low         sec_app_fico_range_high  1.000000   \n",
       "2             fico_range_low                 fico_range_high  1.000000   \n",
       "3                  loan_amnt                 funded_amnt_inv  0.999996   \n",
       "4                funded_amnt                 funded_amnt_inv  0.999996   \n",
       "5                   open_acc                        num_sats  0.999464   \n",
       "6            num_actv_rev_tl             num_rev_tl_bal_gt_0  0.985972   \n",
       "7                tot_cur_bal                 tot_hi_cred_lim  0.981144   \n",
       "8               total_bal_il      total_il_high_credit_limit  0.949234   \n",
       "9                  loan_amnt                     installment  0.944942   \n",
       "10               funded_amnt                     installment  0.944942   \n",
       "11           funded_amnt_inv                     installment  0.944839   \n",
       "12            acc_now_delinq                    num_tl_30dpd  0.940527   \n",
       "13              total_bal_il               total_bal_ex_mort  0.907411   \n",
       "14  mths_since_recent_bc_dlq  mths_since_recent_revol_delinq  0.893902   \n",
       "15         total_bal_ex_mort      total_il_high_credit_limit  0.890592   \n",
       "16            bc_open_to_buy                  total_bc_limit  0.867218   \n",
       "17    mths_since_last_delinq  mths_since_recent_revol_delinq  0.860612   \n",
       "18                  open_acc                   num_op_rev_tl  0.854261   \n",
       "19             num_op_rev_tl                        num_sats  0.853703   \n",
       "20      last_fico_range_high             last_fico_range_low  0.852071   \n",
       "21            num_actv_bc_tl                 num_actv_rev_tl  0.849102   \n",
       "22               open_rv_24m            acc_open_past_24mths  0.848753   \n",
       "23                 num_bc_tl                   num_rev_accts  0.844582   \n",
       "24            num_actv_bc_tl             num_rev_tl_bal_gt_0  0.843279   \n",
       "25                   bc_util                percent_bc_gt_75  0.841719   \n",
       "26               open_rv_12m              num_tl_op_past_12m  0.840773   \n",
       "27             num_op_rev_tl                   num_rev_accts  0.829068   \n",
       "28            num_actv_bc_tl                     num_bc_sats  0.827612   \n",
       "29          total_rev_hi_lim                  total_bc_limit  0.826346   \n",
       "30               tot_cur_bal                     avg_cur_bal  0.817899   \n",
       "31               num_bc_sats                       num_bc_tl  0.807642   \n",
       "\n",
       "    var_1_miss  var_2_miss  \n",
       "0            0           0  \n",
       "1        91533       91533  \n",
       "2            0           0  \n",
       "3            0           0  \n",
       "4            0           0  \n",
       "5            0           0  \n",
       "6            0           0  \n",
       "7            0           0  \n",
       "8            0           0  \n",
       "9            0           0  \n",
       "10           0           0  \n",
       "11           0           0  \n",
       "12           0           0  \n",
       "13           0           0  \n",
       "14       86566       77038  \n",
       "15           0           0  \n",
       "16        1510           0  \n",
       "17       60695       77038  \n",
       "18           0           0  \n",
       "19           0           0  \n",
       "20           0           0  \n",
       "21           0           0  \n",
       "22           0           0  \n",
       "23           0           0  \n",
       "24           0           0  \n",
       "25        1561        1514  \n",
       "26           0           0  \n",
       "27           0           0  \n",
       "28           0           0  \n",
       "29           0           0  \n",
       "30           0          10  \n",
       "31           0           0  "
      ]
     },
     "execution_count": 36,
     "metadata": {},
     "output_type": "execute_result"
    }
   ],
   "source": [
    "high_cor"
   ]
  },
  {
   "cell_type": "code",
   "execution_count": 47,
   "metadata": {},
   "outputs": [
    {
     "data": {
      "text/plain": [
       "['funded_amnt',\n",
       " 'sec_app_fico_range_high',\n",
       " 'fico_range_high',\n",
       " 'funded_amnt_inv',\n",
       " 'num_sats',\n",
       " 'num_rev_tl_bal_gt_0',\n",
       " 'tot_hi_cred_lim',\n",
       " 'total_il_high_credit_limit',\n",
       " 'installment',\n",
       " 'num_tl_30dpd',\n",
       " 'total_bal_ex_mort',\n",
       " 'total_bc_limit',\n",
       " 'num_op_rev_tl',\n",
       " 'last_fico_range_low',\n",
       " 'num_actv_rev_tl',\n",
       " 'acc_open_past_24mths',\n",
       " 'num_rev_accts',\n",
       " 'percent_bc_gt_75',\n",
       " 'num_tl_op_past_12m',\n",
       " 'num_bc_sats',\n",
       " 'avg_cur_bal',\n",
       " 'num_bc_tl']"
      ]
     },
     "execution_count": 47,
     "metadata": {},
     "output_type": "execute_result"
    }
   ],
   "source": [
    "# I decide to drop the variabales in var_2, except 'mths_since_recent_revol_delinq'\n",
    "col_drop=high_cor['var_2'].unique()\n",
    "col_drop = col_drop.tolist()\n",
    "col_drop.remove('mths_since_recent_revol_delinq') \n",
    "col_drop"
   ]
  },
  {
   "cell_type": "code",
   "execution_count": 49,
   "metadata": {},
   "outputs": [],
   "source": [
    "for i in col_drop:\n",
    "    df.drop(i,axis=1, inplace=True)"
   ]
  },
  {
   "cell_type": "code",
   "execution_count": null,
   "metadata": {},
   "outputs": [],
   "source": [
    "df = df.drop(columns = 'mths_since_recent_bc_dlq')"
   ]
  },
  {
   "cell_type": "code",
   "execution_count": 52,
   "metadata": {},
   "outputs": [
    {
     "data": {
      "text/plain": [
       "(107864, 85)"
      ]
     },
     "execution_count": 52,
     "metadata": {},
     "output_type": "execute_result"
    }
   ],
   "source": [
    "df.shape"
   ]
  },
  {
   "cell_type": "code",
   "execution_count": 53,
   "metadata": {},
   "outputs": [
    {
     "data": {
      "text/html": [
       "<div>\n",
       "<style scoped>\n",
       "    .dataframe tbody tr th:only-of-type {\n",
       "        vertical-align: middle;\n",
       "    }\n",
       "\n",
       "    .dataframe tbody tr th {\n",
       "        vertical-align: top;\n",
       "    }\n",
       "\n",
       "    .dataframe thead th {\n",
       "        text-align: right;\n",
       "    }\n",
       "</style>\n",
       "<table border=\"1\" class=\"dataframe\">\n",
       "  <thead>\n",
       "    <tr style=\"text-align: right;\">\n",
       "      <th></th>\n",
       "      <th>var_1</th>\n",
       "      <th>var_2</th>\n",
       "      <th>cor_coef</th>\n",
       "    </tr>\n",
       "  </thead>\n",
       "  <tbody>\n",
       "    <tr>\n",
       "      <th>0</th>\n",
       "      <td>mths_since_last_delinq</td>\n",
       "      <td>mths_since_recent_revol_delinq</td>\n",
       "      <td>0.860612</td>\n",
       "    </tr>\n",
       "  </tbody>\n",
       "</table>\n",
       "</div>"
      ],
      "text/plain": [
       "                    var_1                           var_2  cor_coef\n",
       "0  mths_since_last_delinq  mths_since_recent_revol_delinq  0.860612"
      ]
     },
     "execution_count": 53,
     "metadata": {},
     "output_type": "execute_result"
    }
   ],
   "source": [
    "# after preliminarily drop those high corelated variables, we see the high_cor table again. \n",
    "corr_matrix = df.corr().abs()\n",
    "sol = (corr_matrix.where(np.triu(np.ones(corr_matrix.shape), k=1).astype(np.bool))\n",
    "                  .stack()\n",
    "                  .sort_values(ascending=False))\n",
    "sol_df = pd.DataFrame(sol)\n",
    "# Set the two indexes into columns\n",
    "sol_df.reset_index(inplace=True)\n",
    "# rename each column \n",
    "sol_df.rename(columns={'level_0':'var_1','level_1':'var_2',0:'cor_coef'},inplace=True)\n",
    "high_cor = sol_df[sol_df['cor_coef']>= 0.8]\n",
    "high_cor"
   ]
  },
  {
   "cell_type": "code",
   "execution_count": 56,
   "metadata": {},
   "outputs": [
    {
     "data": {
      "text/plain": [
       "(60695, 77038)"
      ]
     },
     "execution_count": 56,
     "metadata": {},
     "output_type": "execute_result"
    }
   ],
   "source": [
    "df['mths_since_last_delinq'].isnull().sum(), df['mths_since_recent_revol_delinq'].isnull().sum()"
   ]
  },
  {
   "cell_type": "code",
   "execution_count": 57,
   "metadata": {},
   "outputs": [],
   "source": [
    "# drop variable 'mths_since_recent_revol_delinq' due to more missing value \n",
    "df = df.drop(columns = 'mths_since_recent_revol_delinq')"
   ]
  },
  {
   "cell_type": "code",
   "execution_count": 59,
   "metadata": {},
   "outputs": [
    {
     "data": {
      "text/plain": [
       "(107864, 84)"
      ]
     },
     "execution_count": 59,
     "metadata": {},
     "output_type": "execute_result"
    }
   ],
   "source": [
    "# After finishing the preliminarily explore, there are 108 columns in the dataset \n",
    "\n",
    "df.shape"
   ]
  },
  {
   "cell_type": "code",
   "execution_count": 60,
   "metadata": {},
   "outputs": [],
   "source": [
    "# Save the dataframe for next stage data analysis\n",
    "df.to_csv(r'D:\\Springboard\\Github\\Lending Club Capstone Project\\Lending Club Updated Version.csv',index=False)"
   ]
  },
  {
   "cell_type": "code",
   "execution_count": null,
   "metadata": {},
   "outputs": [],
   "source": []
  }
 ],
 "metadata": {
  "kernelspec": {
   "display_name": "Python 3",
   "language": "python",
   "name": "python3"
  },
  "language_info": {
   "codemirror_mode": {
    "name": "ipython",
    "version": 3
   },
   "file_extension": ".py",
   "mimetype": "text/x-python",
   "name": "python",
   "nbconvert_exporter": "python",
   "pygments_lexer": "ipython3",
   "version": "3.7.3"
  },
  "toc": {
   "base_numbering": 1,
   "nav_menu": {},
   "number_sections": true,
   "sideBar": true,
   "skip_h1_title": false,
   "title_cell": "Table of Contents",
   "title_sidebar": "Contents",
   "toc_cell": false,
   "toc_position": {
    "height": "calc(100% - 180px)",
    "left": "10px",
    "top": "150px",
    "width": "466px"
   },
   "toc_section_display": true,
   "toc_window_display": true
  }
 },
 "nbformat": 4,
 "nbformat_minor": 4
}
